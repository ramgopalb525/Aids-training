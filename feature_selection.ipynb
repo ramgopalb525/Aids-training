{
 "cells": [
  {
   "cell_type": "code",
   "execution_count": 1,
   "id": "00c3e3aa",
   "metadata": {},
   "outputs": [
    {
     "name": "stdout",
     "output_type": "stream",
     "text": [
      "Note: you may need to restart the kernel to use updated packages.\n"
     ]
    },
    {
     "name": "stderr",
     "output_type": "stream",
     "text": [
      "WARNING: Skipping scikit-learn as it is not installed.\n",
      "WARNING: Skipping imbalanced-learn as it is not installed.\n"
     ]
    }
   ],
   "source": [
    "pip uninstall scikit-learn imbalanced-learn -y\n"
   ]
  },
  {
   "cell_type": "code",
   "execution_count": 2,
   "id": "b0037f61",
   "metadata": {},
   "outputs": [
    {
     "name": "stdout",
     "output_type": "stream",
     "text": [
      "Collecting scikit-learn\n",
      "  Obtaining dependency information for scikit-learn from https://files.pythonhosted.org/packages/a1/a6/c5b78606743a1f28eae8f11973de6613a5ee87366796583fb74c67d54939/scikit_learn-1.6.1-cp311-cp311-win_amd64.whl.metadata\n",
      "  Using cached scikit_learn-1.6.1-cp311-cp311-win_amd64.whl.metadata (15 kB)\n",
      "Collecting imbalanced-learn\n",
      "  Obtaining dependency information for imbalanced-learn from https://files.pythonhosted.org/packages/9d/41/721fec82606242a2072ee909086ff918dfad7d0199a9dfd4928df9c72494/imbalanced_learn-0.13.0-py3-none-any.whl.metadata\n",
      "  Using cached imbalanced_learn-0.13.0-py3-none-any.whl.metadata (8.8 kB)\n",
      "Requirement already satisfied: numpy>=1.19.5 in c:\\users\\cvr\\anaconda3\\lib\\site-packages (from scikit-learn) (1.24.3)\n",
      "Requirement already satisfied: scipy>=1.6.0 in c:\\users\\cvr\\anaconda3\\lib\\site-packages (from scikit-learn) (1.11.1)\n",
      "Requirement already satisfied: joblib>=1.2.0 in c:\\users\\cvr\\anaconda3\\lib\\site-packages (from scikit-learn) (1.2.0)\n",
      "Requirement already satisfied: threadpoolctl>=3.1.0 in c:\\users\\cvr\\anaconda3\\lib\\site-packages (from scikit-learn) (3.5.0)\n",
      "Requirement already satisfied: sklearn-compat<1,>=0.1 in c:\\users\\cvr\\anaconda3\\lib\\site-packages (from imbalanced-learn) (0.1.3)\n",
      "Using cached scikit_learn-1.6.1-cp311-cp311-win_amd64.whl (11.1 MB)\n",
      "Using cached imbalanced_learn-0.13.0-py3-none-any.whl (238 kB)\n",
      "Installing collected packages: scikit-learn, imbalanced-learn\n",
      "Successfully installed imbalanced-learn-0.13.0 scikit-learn-1.6.1\n",
      "Note: you may need to restart the kernel to use updated packages.\n"
     ]
    }
   ],
   "source": [
    "pip install -U scikit-learn imbalanced-learn"
   ]
  },
  {
   "cell_type": "code",
   "execution_count": 3,
   "id": "6d717c86",
   "metadata": {},
   "outputs": [
    {
     "name": "stdout",
     "output_type": "stream",
     "text": [
      "    Age  Income     Class\n",
      "0    22    2000  Minority\n",
      "1    25    2500  Minority\n",
      "2    27    2700  Minority\n",
      "3    28    3200  Minority\n",
      "4    30    3500  Majority\n",
      "5    35    3800  Majority\n",
      "6    40    4000  Majority\n",
      "7    45    4300  Majority\n",
      "8    50    4500  Majority\n",
      "9    55    4800  Majority\n",
      "10   60    5000  Majority\n",
      "11   65    5300  Majority\n",
      "12   70    5500  Majority\n",
      "13   26    2668  Minority\n",
      "14   25    2531  Minority\n",
      "15   27    3159  Minority\n",
      "16   27    3133  Minority\n",
      "17   23    2199  Minority\n"
     ]
    }
   ],
   "source": [
    "import pandas as pd\n",
    "from imblearn.over_sampling import SMOTE\n",
    "\n",
    "# Sample dataset\n",
    "df = pd.DataFrame({\n",
    "    'Age': [22, 25, 27, 28, 30, 35, 40, 45, 50, 55, 60, 65, 70],\n",
    "    'Income': [2000, 2500, 2700, 3200, 3500, 3800, 4000, 4300, 4500, 4800, 5000, 5300, 5500],\n",
    "    'Class': ['Minority', 'Minority', 'Minority', 'Minority', 'Majority', 'Majority', 'Majority', 'Majority', \n",
    "              'Majority', 'Majority', 'Majority', 'Majority', 'Majority']\n",
    "})\n",
    "\n",
    "# Step 1: Convert categorical labels to numerical values (Majority -> 0, Minority -> 1)\n",
    "df['Class'] = df['Class'].map({'Majority': 0, 'Minority': 1})\n",
    "\n",
    "# Step 2: Split features (X) and target variable (y)\n",
    "X = df[['Age', 'Income']]  # Features\n",
    "y = df['Class']  # Target variable\n",
    "\n",
    "# Step 3: Apply SMOTE with k_neighbors=3 (reducing from default 5)\n",
    "smote = SMOTE(sampling_strategy='auto', random_state=42, k_neighbors=3)\n",
    "X_resampled, y_resampled = smote.fit_resample(X, y)\n",
    "\n",
    "# Step 4: Convert numeric labels back to categorical\n",
    "y_resampled = y_resampled.map({0: 'Majority', 1: 'Minority'})\n",
    "\n",
    "# Step 5: Combine the resampled dataset\n",
    "df_resampled = pd.DataFrame(X_resampled, columns=['Age', 'Income'])\n",
    "df_resampled['Class'] = y_resampled\n",
    "\n",
    "# Print the balanced dataset\n",
    "print(df_resampled)\n",
    "\n"
   ]
  },
  {
   "cell_type": "markdown",
   "id": "27f54f99",
   "metadata": {},
   "source": [
    "# Types of Feature Selection Methods \n",
    "\n",
    "Type-E2-EdteLMethQds: \n",
    "\n",
    "Method = > Correlation, Chi-Square, Mutual Information. \n",
    "\n",
    "Description Rank features based on statistical tests. \n",
    "\n",
    "Type.E2-Wroppe.cMethQds \n",
    "\n",
    "\n",
    "Method = > Forward/Backward Selection, Recursive Feature Elimination (RFE) \n",
    "\n",
    "Description = > Train models with different feature subsets and select the best. \n",
    "\n",
    "Type-Q-Eméedded-MethQds \n",
    "\n",
    "Method = >Lasso Regression, Decision Trees  \n",
    "\n",
    "Description =>Feature selection is built into the model training process. \n",
    "\n",
    "\n",
    "\n",
    "\n",
    "\n",
    "\n",
    "\n",
    "\n"
   ]
  },
  {
   "cell_type": "markdown",
   "id": "6734bdf8",
   "metadata": {},
   "source": [
    "# **What is Feature Selection?**\n",
    " \n",
    "        Feature selection is the process of choosing the most important features (variables) from a dataset to improve a machine learning model's performance and efficiency. Instead of using all the features, we select only the most relevant ones that contribute significantly to predictions."
   ]
  },
  {
   "cell_type": "markdown",
   "id": "622257cd",
   "metadata": {},
   "source": [
    "# **Why Do We Need Feature Selection?**\n",
    "*1.Reduces Overfitting 📉*\n",
    "\n",
    "        Too many irrelevant features can make a model complex and cause it to overfit the training data.\n",
    "*2.Improves Model Performance 🚀*\n",
    " \n",
    "        Selecting relevant features boosts accuracy and reduces unnecessary noise in the data.\n",
    "*3.Reduces Training Time ⏳*\n",
    " \n",
    "        Fewer features mean faster model training and lower computational cost.\n",
    "*4.Enhances Interpretability 🔍*\n",
    " \n",
    "        Helps in understanding which features actually impact predictions."
   ]
  },
  {
   "cell_type": "markdown",
   "id": "dbe5cea0",
   "metadata": {},
   "source": [
    "# **Types of Feature Selection Methods**\n",
    " \n",
    "<ins>*Type => Filter Methods:*</ins>\n",
    " \n",
    "Method => Correlation, Chi-Square, Mutual Information.\n",
    " \n",
    "Description => Rank features based on statistical tests.\n",
    " \n",
    "<ins>*Type => Wrapper Methods:*</ins>\n",
    " \n",
    "Method => Forward/Backward Selection, Recursive Feature Elimination (RFE)\n",
    " \n",
    "Description => Train models with different feature subsets and select the best.\n",
    " \n",
    "<ins>*Type => Embedded Methods*</ins>\n",
    " \n",
    "Method =>Lasso Regression, Decision Trees\n",
    " \n",
    "Description =>Feature selection is built into the model training process.\n",
    " \n",
    " "
   ]
  },
  {
   "cell_type": "code",
   "execution_count": 4,
   "id": "58a6579f",
   "metadata": {},
   "outputs": [],
   "source": [
    "import pandas as pd\n",
    "import numpy as np\n",
    "from sklearn.model_selection import train_test_split\n",
    "from sklearn.ensemble import RandomForestRegressor\n",
    "from sklearn.feature_selection import RFE\n",
    "from sklearn.linear_model import Lasso\n",
    "import seaborn as sns\n",
    "import matplotlib.pyplot as plt"
   ]
  },
  {
   "cell_type": "code",
   "execution_count": 13,
   "id": "c4b32ae8",
   "metadata": {},
   "outputs": [
    {
     "name": "stdout",
     "output_type": "stream",
     "text": [
      "   Size  Bedrooms  Age   Price\n",
      "0  1360         3    2  322252\n",
      "1  4272         3    2  122296\n",
      "2  3592         2   92  104179\n",
      "3   966         2   54  100272\n",
      "4  4926         4   87   48467\n"
     ]
    }
   ],
   "source": [
    "np.random.seed(42)\n",
    "\n",
    "df = pd.DataFrame({\n",
    "    'Size': np.random.randint(500, 5000, 100),  \n",
    "    'Bedrooms': np.random.randint(1, 5, 100),  \n",
    "    'Age': np.random.randint(1, 100, 100),  \n",
    "    'Price': np.random.randint(10000, 500000, 100)  \n",
    "})\n",
    "\n",
    "print(df.head())"
   ]
  },
  {
   "cell_type": "code",
   "execution_count": 17,
   "id": "e0a72c36",
   "metadata": {},
   "outputs": [
    {
     "data": {
      "image/png": "[encoded data removed]",
      "text/plain": [
       "<Figure size 800x600 with 2 Axes>"
      ]
     },
     "metadata": {},
     "output_type": "display_data"
    }
   ],
   "source": [
    "\n",
    "# Plot heatmap\n",
    "plt.figure(figsize=(8, 6))  \n",
    "sns.heatmap(data.corr(), annot=True, cmap='coolwarm')\n",
    "\n",
    "plt.title(\"Feature Correlation Matrix\")\n",
    "plt.show()\n"
   ]
  },
  {
   "cell_type": "code",
   "execution_count": 18,
   "id": "8138ee4c",
   "metadata": {},
   "outputs": [
    {
     "name": "stdout",
     "output_type": "stream",
     "text": [
      "Selected Features using RFE: Index(['Size', 'Age'], dtype='object')\n"
     ]
    }
   ],
   "source": [
    "# Step 3: Apply Recursive Feature Elimination (RFE) (Wrapper Method)\n",
    "X = data.drop('Price', axis=1)  \n",
    "y = data['Price'] \n",
    "# Create a Random Forest Regressor model\n",
    "model = RandomForestRegressor(random_state=42)\n",
    "\n",
    "# Apply Recursive Feature Elimination (RFE) to select the top 2 features\n",
    "rfe = RFE(model, n_features_to_select=2)  \n",
    "rfe.fit(X, y)\n",
    "\n",
    "# Get the selected features\n",
    "selected_features = X.columns[rfe.support_]\n",
    "\n",
    "# Print selected features\n",
    "print(\"Selected Features using RFE:\", selected_features)"
   ]
  },
  {
   "cell_type": "code",
   "execution_count": 22,
   "id": "610aec59",
   "metadata": {},
   "outputs": [
    {
     "name": "stdout",
     "output_type": "stream",
     "text": [
      "Selected Features using Lasso: Index(['Size', 'Bedrooms', 'Age'], dtype='object')\n"
     ]
    }
   ],
   "source": [
    "\n",
    "# Step 4: Apply Lasso (Least Absolute Shrinkage and Selection Operator) Regression (Embedded Method)\n",
    "lasso = Lasso(alpha=0.1)  \n",
    "lasso.fit(X, y)\n",
    "\n",
    "# Get feature importance (absolute values of the coefficients)\n",
    "importance = np.abs(lasso.coef_)\n",
    "\n",
    "# Select features based on importance\n",
    "selected_features = X.columns[importance > 0.1]\n",
    "\n",
    "# Print selected features\n",
    "print(\"Selected Features using Lasso:\", selected_features)\n"
   ]
  },
  {
   "cell_type": "code",
   "execution_count": null,
   "id": "08b5f488",
   "metadata": {},
   "outputs": [],
   "source": []
  }
 ],
 "metadata": {
  "kernelspec": {
   "display_name": "Python 3 (ipykernel)",
   "language": "python",
   "name": "python3"
  },
  "language_info": {
   "codemirror_mode": {
    "name": "ipython",
    "version": 3
   },
   "file_extension": ".py",
   "mimetype": "text/x-python",
   "name": "python",
   "nbconvert_exporter": "python",
   "pygments_lexer": "ipython3",
   "version": "3.11.5"
  }
 },
 "nbformat": 4,
 "nbformat_minor": 5
}
