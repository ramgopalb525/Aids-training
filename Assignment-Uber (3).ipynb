{
 "cells": [
  {
   "cell_type": "markdown",
   "id": "941aa511-f9ba-4f8c-85fb-0b776f5b9a03",
   "metadata": {},
   "source": [
    "# **Assignment on Uber dataset**"
   ]
  },
  {
   "cell_type": "markdown",
   "id": "e9ccc14f-4a6d-48b9-9937-b6373ad64145",
   "metadata": {},
   "source": [
    "**Load the dataset**"
   ]
  },
  {
   "cell_type": "code",
   "execution_count": 1,
   "id": "a34ffa5a-50f5-4451-8ed8-e6f44a7419b1",
   "metadata": {},
   "outputs": [],
   "source": [
    "import pandas as pd\n",
    "df=pd.read_csv(\n",
    "    \"Uber.csv\",\n",
    "  sep=\",\")"
   ]
  },
  {
   "cell_type": "markdown",
   "id": "a589e8f4-ce40-468d-b563-c873eddf171b",
   "metadata": {},
   "source": [
    "**Display basic info about dataset**"
   ]
  },
  {
   "cell_type": "code",
   "execution_count": 2,
   "id": "fe004ecf-d5b4-4f01-817a-56be0681763a",
   "metadata": {},
   "outputs": [
    {
     "name": "stdout",
     "output_type": "stream",
     "text": [
      "<class 'pandas.core.frame.DataFrame'>\n",
      "RangeIndex: 1156 entries, 0 to 1155\n",
      "Data columns (total 7 columns):\n",
      " #   Column       Non-Null Count  Dtype  \n",
      "---  ------       --------------  -----  \n",
      " 0   START_DATE*  1156 non-null   object \n",
      " 1   END_DATE*    1155 non-null   object \n",
      " 2   CATEGORY*    1155 non-null   object \n",
      " 3   START*       1155 non-null   object \n",
      " 4   STOP*        1155 non-null   object \n",
      " 5   MILES*       1156 non-null   float64\n",
      " 6   PURPOSE*     653 non-null    object \n",
      "dtypes: float64(1), object(6)\n",
      "memory usage: 63.3+ KB\n"
     ]
    }
   ],
   "source": [
    "df.describe()\n",
    "df.info()"
   ]
  },
  {
   "cell_type": "markdown",
   "id": "0dba6eff-7805-45fa-8272-76f9b11fbb0b",
   "metadata": {},
   "source": [
    "**Check for missing values**"
   ]
  },
  {
   "cell_type": "code",
   "execution_count": 3,
   "id": "d9565cc7-c276-422a-883f-cd731ceb163a",
   "metadata": {},
   "outputs": [
    {
     "data": {
      "text/plain": [
       "START_DATE*      0\n",
       "END_DATE*        1\n",
       "CATEGORY*        1\n",
       "START*           1\n",
       "STOP*            1\n",
       "MILES*           0\n",
       "PURPOSE*       503\n",
       "dtype: int64"
      ]
     },
     "execution_count": 3,
     "metadata": {},
     "output_type": "execute_result"
    }
   ],
   "source": [
    "df.isna().sum()"
   ]
  },
  {
   "cell_type": "markdown",
   "id": "a58c1ca3-cae2-412a-8bd3-65cac83dcdd2",
   "metadata": {},
   "source": [
    "**Drop rows with missing values**"
   ]
  },
  {
   "cell_type": "code",
   "execution_count": 37,
   "id": "7e610261-c70f-4297-b9be-370881444bc9",
   "metadata": {},
   "outputs": [],
   "source": [
    "# df= df.dropna()\n",
    "# print(df.isna().sum())"
   ]
  },
  {
   "cell_type": "markdown",
   "id": "553b0fa2-e237-4f3d-824f-812b15aa79f3",
   "metadata": {},
   "source": [
    "**fill missing values (propose column with unknown value)**"
   ]
  },
  {
   "cell_type": "code",
   "execution_count": 29,
   "id": "1f85afa3-ea43-4ccc-bd45-b7b8e1d7b0b9",
   "metadata": {},
   "outputs": [
    {
     "name": "stdout",
     "output_type": "stream",
     "text": [
      "START_DATE*      0\n",
      "END_DATE*        1\n",
      "CATEGORY*        1\n",
      "START*           1\n",
      "STOP*            1\n",
      "MILES*           0\n",
      "PURPOSE*       503\n",
      "dtype: int64\n",
      "START_DATE*    0\n",
      "END_DATE*      0\n",
      "CATEGORY*      0\n",
      "START*         0\n",
      "STOP*          0\n",
      "MILES*         0\n",
      "PURPOSE*       0\n",
      "dtype: int64\n"
     ]
    }
   ],
   "source": [
    "print(df.isna().sum())\n",
    "df['START_DATE*'].fillna(df['START_DATE*'].mode()[0],inplace=True)\n",
    "df['END_DATE*'].fillna(df['START_DATE*'].mode()[0],inplace=True)\n",
    "df['CATEGORY*'].fillna(df['CATEGORY*'].mode()[0],inplace=True)\n",
    "df['START*'].fillna(df['START*'].mode()[0],inplace=True)\n",
    "df['STOP*'].fillna(df['STOP*'].mode()[0],inplace=True)\n",
    "df['MILES*'].fillna(df['MILES*'].mode()[0],inplace=True)\n",
    "df['PURPOSE*'].fillna(df['PURPOSE*'].mode()[0],inplace=True)\n",
    "print(df.isna().sum())"
   ]
  },
  {
   "cell_type": "markdown",
   "id": "2c3f9b9f-8cc4-46d0-bc19-d0986d7895c4",
   "metadata": {},
   "source": [
    "**Check and remove duplicates**"
   ]
  },
  {
   "cell_type": "code",
   "execution_count": null,
   "id": "94e58632-b9ce-4be0-8f71-5a81b4dd88cd",
   "metadata": {},
   "outputs": [],
   "source": []
  },
  {
   "cell_type": "code",
   "execution_count": 38,
   "id": "76215668-c702-461b-872e-83ab303880cb",
   "metadata": {},
   "outputs": [
    {
     "name": "stdout",
     "output_type": "stream",
     "text": [
      "            START_DATE*           END_DATE* CATEGORY*  START* STOP*  MILES*  \\\n",
      "492 2016-06-28 23:34:00 2016-06-28 23:59:00  Business  Durham  Cary     9.9   \n",
      "\n",
      "    PURPOSE*  \n",
      "492  Meeting  \n"
     ]
    }
   ],
   "source": [
    "duplicates=df[df.duplicated()]\n",
    "print(duplicates)"
   ]
  },
  {
   "cell_type": "markdown",
   "id": "0a27bdb3-ade2-40b0-b06f-8a02ede5980a",
   "metadata": {},
   "source": [
    "**Convert START_DATE and END_DATE to datetime**"
   ]
  },
  {
   "cell_type": "code",
   "execution_count": 4,
   "id": "effc5d74-284f-470d-9784-8ae321a4a774",
   "metadata": {},
   "outputs": [],
   "source": [
    "df['END_DATE*']=pd.to_datetime(df['END_DATE*'])"
   ]
  },
  {
   "cell_type": "code",
   "execution_count": 31,
   "id": "59c684a6-d034-4ac8-b4cf-b86eeef5fc9c",
   "metadata": {},
   "outputs": [
    {
     "name": "stdout",
     "output_type": "stream",
     "text": [
      "datetime64[ns]\n",
      "             START_DATE*           END_DATE* CATEGORY*            START*  \\\n",
      "0    2016-01-01 21:11:00 2016-01-01 21:17:00  Business       Fort Pierce   \n",
      "1    2016-01-02 01:25:00 2016-01-02 01:37:00  Business       Fort Pierce   \n",
      "2    2016-01-02 20:25:00 2016-01-02 20:38:00  Business       Fort Pierce   \n",
      "3    2016-01-05 17:31:00 2016-01-05 17:45:00  Business       Fort Pierce   \n",
      "4    2016-01-06 14:42:00 2016-01-06 15:49:00  Business       Fort Pierce   \n",
      "...                  ...                 ...       ...               ...   \n",
      "1151 2016-12-31 13:24:00 2016-12-31 13:42:00  Business           Kar?chi   \n",
      "1152 2016-12-31 15:03:00 2016-12-31 15:38:00  Business  Unknown Location   \n",
      "1153 2016-12-31 21:32:00 2016-12-31 21:50:00  Business        Katunayake   \n",
      "1154 2016-12-31 22:08:00 2016-12-31 23:51:00  Business           Gampaha   \n",
      "1155                 NaT 2016-06-28 23:34:00  Business              Cary   \n",
      "\n",
      "                 STOP*   MILES*         PURPOSE*  \n",
      "0          Fort Pierce      5.1   Meal/Entertain  \n",
      "1          Fort Pierce      5.0          Meeting  \n",
      "2          Fort Pierce      4.8  Errand/Supplies  \n",
      "3          Fort Pierce      4.7          Meeting  \n",
      "4      West Palm Beach     63.7   Customer Visit  \n",
      "...                ...      ...              ...  \n",
      "1151  Unknown Location      3.9   Temporary Site  \n",
      "1152  Unknown Location     16.2          Meeting  \n",
      "1153           Gampaha      6.4   Temporary Site  \n",
      "1154         Ilukwatta     48.2   Temporary Site  \n",
      "1155              Cary  12204.7          Meeting  \n",
      "\n",
      "[1156 rows x 7 columns]\n"
     ]
    }
   ],
   "source": [
    "df['START_DATE*'] = pd.to_datetime(df['START_DATE*'], format='%m/%d/%Y %H:%M',errors='coerce')\n",
    "print(df['START_DATE*'].dtype)\n",
    "print(df)"
   ]
  },
  {
   "cell_type": "markdown",
   "id": "95dfc783-1db4-4010-a085-23a653ea83d0",
   "metadata": {},
   "source": [
    "**Total number of rides per category:**"
   ]
  },
  {
   "cell_type": "code",
   "execution_count": 28,
   "id": "e5cba9c3-7988-4d66-9306-5b95131dd111",
   "metadata": {},
   "outputs": [
    {
     "data": {
      "text/plain": [
       "PURPOSE*\n",
       "Meeting            187\n",
       "Meal/Entertain     160\n",
       "Errand/Supplies    128\n",
       "Customer Visit     101\n",
       "Temporary Site      50\n",
       "Between Offices     18\n",
       "Moving               4\n",
       "Airport/Travel       3\n",
       "Charity ($)          1\n",
       "Commute              1\n",
       "Name: count, dtype: int64"
      ]
     },
     "execution_count": 28,
     "metadata": {},
     "output_type": "execute_result"
    }
   ],
   "source": [
    "df['PURPOSE*'].value_counts()"
   ]
  },
  {
   "cell_type": "markdown",
   "id": "df33aac2-ffb5-4ec5-9498-652a0eb957d9",
   "metadata": {},
   "source": [
    "**Total miles traveled for each purpose:**"
   ]
  },
  {
   "cell_type": "code",
   "execution_count": 15,
   "id": "6cea5c61-d84e-4eaf-8fde-23ec8b1f2a2c",
   "metadata": {},
   "outputs": [
    {
     "name": "stdout",
     "output_type": "stream",
     "text": [
      "                    sum\n",
      "PURPOSE*               \n",
      "Airport/Travel     16.5\n",
      "Between Offices   197.0\n",
      "Charity ($)        15.1\n",
      "Commute           180.2\n",
      "Customer Visit   2089.5\n",
      "Errand/Supplies   508.0\n",
      "Meal/Entertain    911.7\n",
      "Meeting          2851.3\n",
      "Moving             18.2\n",
      "Temporary Site    523.7\n"
     ]
    }
   ],
   "source": [
    "grouped=df.groupby('PURPOSE*')['MILES*'].agg(['sum'])\n",
    "print(grouped)"
   ]
  },
  {
   "cell_type": "markdown",
   "id": "0038c354-db08-44a6-90b4-3c307431960d",
   "metadata": {},
   "source": [
    "**Average distance for business vs. personal rides:**"
   ]
  },
  {
   "cell_type": "code",
   "execution_count": 30,
   "id": "81c4d609-c7fa-44a7-b7f1-29a996a068c8",
   "metadata": {},
   "outputs": [
    {
     "name": "stdout",
     "output_type": "stream",
     "text": [
      "                mean\n",
      "CATEGORY*           \n",
      "Business   21.957090\n",
      "Personal    9.320779\n"
     ]
    }
   ],
   "source": [
    "grouped_business=df.groupby('CATEGORY*')['MILES*'].agg(['mean'])\n",
    "print(grouped_business)"
   ]
  },
  {
   "cell_type": "markdown",
   "id": "b5ce5c6c-b9ba-4c8f-a371-d3d8ff76ce06",
   "metadata": {},
   "source": [
    "**Add a column for cost estimation (assuming $2 per mile):**"
   ]
  },
  {
   "cell_type": "code",
   "execution_count": 18,
   "id": "d727f17e-f0a9-4168-9a4d-bd0c5b118e11",
   "metadata": {},
   "outputs": [
    {
     "name": "stdout",
     "output_type": "stream",
     "text": [
      "48818.8\n"
     ]
    }
   ],
   "source": [
    "total=df['MILES*'].sum()\n",
    "print(total*2)"
   ]
  },
  {
   "cell_type": "markdown",
   "id": "8e7c7766-dc43-43bf-bf95-bd52e37b1657",
   "metadata": {},
   "source": [
    "**Filter rides longer than 50 miles:**"
   ]
  },
  {
   "cell_type": "code",
   "execution_count": 24,
   "id": "f1452c30-ba23-4153-b83c-efefa820123d",
   "metadata": {},
   "outputs": [
    {
     "name": "stdout",
     "output_type": "stream",
     "text": [
      "           START_DATE*           END_DATE* CATEGORY*            START*  \\\n",
      "4       1/6/2016 14:42 2016-01-06 15:49:00  Business       Fort Pierce   \n",
      "232    3/17/2016 12:52 2016-03-17 15:11:00  Business            Austin   \n",
      "251    3/19/2016 19:33 2016-03-19 20:39:00  Business         Galveston   \n",
      "268    3/25/2016 13:24 2016-03-25 16:22:00  Business              Cary   \n",
      "269    3/25/2016 16:52 2016-03-25 22:22:00  Business             Latta   \n",
      "270    3/25/2016 22:54 2016-03-26 01:39:00  Business      Jacksonville   \n",
      "295     4/2/2016 12:21 2016-04-02 14:47:00  Business         Kissimmee   \n",
      "296     4/2/2016 16:57 2016-04-02 18:09:00  Business     Daytona Beach   \n",
      "297     4/2/2016 19:38 2016-04-02 22:36:00  Business      Jacksonville   \n",
      "298     4/2/2016 23:11 2016-04-03 01:34:00  Business         Ridgeland   \n",
      "299      4/3/2016 2:00 2016-04-03 04:16:00  Business          Florence   \n",
      "546    7/14/2016 16:39 2016-07-14 20:05:00  Business       Morrisville   \n",
      "559    7/17/2016 12:20 2016-07-17 15:25:00  Personal             Boone   \n",
      "707    8/24/2016 13:01 2016-08-24 15:25:00  Business  Unknown Location   \n",
      "710    8/25/2016 17:19 2016-08-25 19:20:00  Business  Unknown Location   \n",
      "726    8/27/2016 14:01 2016-08-27 15:44:00  Business            Lahore   \n",
      "727    8/27/2016 16:15 2016-08-27 19:13:00  Business  Unknown Location   \n",
      "751     9/6/2016 17:49 2016-09-06 17:49:00  Business  Unknown Location   \n",
      "776    9/27/2016 21:01 2016-09-28 02:37:00  Business  Unknown Location   \n",
      "788    10/6/2016 17:23 2016-10-06 17:40:00  Business        R?walpindi   \n",
      "869   10/28/2016 15:53 2016-10-28 17:59:00  Business              Cary   \n",
      "870   10/28/2016 18:13 2016-10-28 20:07:00  Business     Winston Salem   \n",
      "871   10/28/2016 20:13 2016-10-28 22:00:00  Business         Asheville   \n",
      "873   10/29/2016 17:13 2016-10-29 19:19:00  Business        Hayesville   \n",
      "880   10/30/2016 13:24 2016-10-30 14:37:00  Business       Bryson City   \n",
      "881   10/30/2016 15:22 2016-10-30 18:23:00  Business         Asheville   \n",
      "1088  12/21/2016 20:56 2016-12-21 23:42:00  Business        Rawalpindi   \n",
      "1155            Totals                 NaT       NaN               NaN   \n",
      "\n",
      "                 STOP*   MILES*        PURPOSE*  \n",
      "4      West Palm Beach     63.7  Customer Visit  \n",
      "232               Katy    136.0  Customer Visit  \n",
      "251            Houston     57.0  Customer Visit  \n",
      "268              Latta    144.0  Customer Visit  \n",
      "269       Jacksonville    310.3  Customer Visit  \n",
      "270          Kissimmee    201.0         Meeting  \n",
      "295      Daytona Beach     77.3  Customer Visit  \n",
      "296       Jacksonville     80.5  Customer Visit  \n",
      "297          Ridgeland    174.2  Customer Visit  \n",
      "298           Florence    144.0         Meeting  \n",
      "299               Cary    159.3         Meeting  \n",
      "546         Banner Elk    195.3             NaN  \n",
      "559               Cary    180.2         Commute  \n",
      "707   Unknown Location     96.2             NaN  \n",
      "710   Unknown Location     50.4             NaN  \n",
      "726   Unknown Location     86.6             NaN  \n",
      "727   Unknown Location    156.9             NaN  \n",
      "751   Unknown Location     69.1             NaN  \n",
      "776   Unknown Location    195.6             NaN  \n",
      "788   Unknown Location    112.6             NaN  \n",
      "869      Winston Salem    107.0         Meeting  \n",
      "870          Asheville    133.6         Meeting  \n",
      "871             Topton     91.8         Meeting  \n",
      "873             Topton     75.7             NaN  \n",
      "880          Asheville     68.4             NaN  \n",
      "881             Mebane    195.9             NaN  \n",
      "1088  Unknown Location    103.0         Meeting  \n",
      "1155               NaN  12204.7             NaN  \n"
     ]
    }
   ],
   "source": [
    "filtered=df['MILES*']>50\n",
    "print(df[filtered])\n"
   ]
  },
  {
   "cell_type": "markdown",
   "id": "3fdffe93-a65e-4407-bd5b-daa9d20c6708",
   "metadata": {},
   "source": [
    "**Filter by specific purpose (e.g., meetings):**"
   ]
  },
  {
   "cell_type": "code",
   "execution_count": 34,
   "id": "f9f9ee23-b44d-4a9e-bcf9-f5c34c8a990e",
   "metadata": {},
   "outputs": [
    {
     "name": "stdout",
     "output_type": "stream",
     "text": [
      "             START_DATE*           END_DATE* CATEGORY*            START*  \\\n",
      "1    2016-01-02 01:25:00 2016-01-02 01:37:00  Business       Fort Pierce   \n",
      "3    2016-01-05 17:31:00 2016-01-05 17:45:00  Business       Fort Pierce   \n",
      "6    2016-01-06 17:30:00 2016-01-06 17:35:00  Business   West Palm Beach   \n",
      "7    2016-01-07 13:27:00 2016-01-07 13:33:00  Business              Cary   \n",
      "8    2016-01-10 08:05:00 2016-01-10 08:25:00  Business              Cary   \n",
      "...                  ...                 ...       ...               ...   \n",
      "1144 2016-12-29 23:14:00 2016-12-29 23:47:00  Business  Unknown Location   \n",
      "1148 2016-12-30 16:45:00 2016-12-30 17:08:00  Business           Kar?chi   \n",
      "1150 2016-12-31 01:07:00 2016-12-31 01:14:00  Business           Kar?chi   \n",
      "1152 2016-12-31 15:03:00 2016-12-31 15:38:00  Business  Unknown Location   \n",
      "1155                 NaT 2016-06-28 23:34:00  Business              Cary   \n",
      "\n",
      "                 STOP*   MILES* PURPOSE*  \n",
      "1          Fort Pierce      5.0  Meeting  \n",
      "3          Fort Pierce      4.7  Meeting  \n",
      "6           Palm Beach      7.1  Meeting  \n",
      "7                 Cary      0.8  Meeting  \n",
      "8          Morrisville      8.3  Meeting  \n",
      "...                ...      ...      ...  \n",
      "1144           Kar?chi     12.9  Meeting  \n",
      "1148           Kar?chi      4.6  Meeting  \n",
      "1150           Kar?chi      0.7  Meeting  \n",
      "1152  Unknown Location     16.2  Meeting  \n",
      "1155              Cary  12204.7  Meeting  \n",
      "\n",
      "[690 rows x 7 columns]\n"
     ]
    }
   ],
   "source": [
    "df_purpose = df[df['PURPOSE*'].isin([ 'Meeting'])]\n",
    "print(df_purpose)"
   ]
  },
  {
   "cell_type": "markdown",
   "id": "82ee3d4d-523b-4a28-a9c1-28149eb65a29",
   "metadata": {},
   "source": [
    "**What is the total number of business trips versus personal trips?**"
   ]
  },
  {
   "cell_type": "code",
   "execution_count": 32,
   "id": "9cb8d272-ecb0-4b42-84b8-32577bbf635c",
   "metadata": {},
   "outputs": [
    {
     "name": "stdout",
     "output_type": "stream",
     "text": [
      "CATEGORY*\n",
      "Business    1079\n",
      "Personal      77\n",
      "Name: count, dtype: int64\n"
     ]
    }
   ],
   "source": [
    "print(df['CATEGORY*'].value_counts())"
   ]
  },
  {
   "cell_type": "markdown",
   "id": "4b246fa1-cd11-46f7-bf7d-bd287536cf7c",
   "metadata": {},
   "source": [
    "**What percentage of trips are business versus personal?**"
   ]
  },
  {
   "cell_type": "code",
   "execution_count": 36,
   "id": "4a2e19b9-5584-4c45-9d9e-642cf1aefabb",
   "metadata": {},
   "outputs": [
    {
     "name": "stdout",
     "output_type": "stream",
     "text": [
      "93.33910034602077\n",
      "6.660899653979238\n"
     ]
    }
   ],
   "source": [
    "\n",
    "category_counts = df['CATEGORY*'].value_counts()\n",
    "\n",
    "\n",
    "total_trips = category_counts.sum()\n",
    "business_percentage = (category_counts['Business'] / total_trips) * 100\n",
    "personal_percentage = (category_counts['Personal'] / total_trips) * 100\n",
    "\n",
    "\n",
    "print(business_percentage)\n",
    "print(personal_percentage)\n"
   ]
  },
  {
   "cell_type": "code",
   "execution_count": null,
   "id": "3ba9ff0a-473c-4b84-ae42-fb74b3363d93",
   "metadata": {},
   "outputs": [],
   "source": []
  }
 ],
 "metadata": {
  "kernelspec": {
   "display_name": "Python 3 (ipykernel)",
   "language": "python",
   "name": "python3"
  },
  "language_info": {
   "codemirror_mode": {
    "name": "ipython",
    "version": 3
   },
   "file_extension": ".py",
   "mimetype": "text/x-python",
   "name": "python",
   "nbconvert_exporter": "python",
   "pygments_lexer": "ipython3",
   "version": "3.11.5"
  }
 },
 "nbformat": 4,
 "nbformat_minor": 5
}
