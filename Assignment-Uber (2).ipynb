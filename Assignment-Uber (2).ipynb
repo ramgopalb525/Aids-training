{
 "cells": [
  {
   "cell_type": "markdown",
   "id": "941aa511-f9ba-4f8c-85fb-0b776f5b9a03",
   "metadata": {},
   "source": [
    "# **Assignment on Uber dataset**"
   ]
  },
  {
   "cell_type": "markdown",
   "id": "e9ccc14f-4a6d-48b9-9937-b6373ad64145",
   "metadata": {},
   "source": [
    "**Load the dataset**"
   ]
  },
  {
   "cell_type": "code",
   "execution_count": 63,
   "id": "a34ffa5a-50f5-4451-8ed8-e6f44a7419b1",
   "metadata": {},
   "outputs": [],
   "source": [
    "import pandas as pd\n",
    "df=pd.read_csv(\"Uber.csv\")"
   ]
  },
  {
   "cell_type": "markdown",
   "id": "a589e8f4-ce40-468d-b563-c873eddf171b",
   "metadata": {},
   "source": [
    "**Display basic info about dataset**"
   ]
  },
  {
   "cell_type": "code",
   "execution_count": 48,
   "id": "fe004ecf-d5b4-4f01-817a-56be0681763a",
   "metadata": {},
   "outputs": [
    {
     "name": "stdout",
     "output_type": "stream",
     "text": [
      "<bound method DataFrame.info of            START_DATE*         END_DATE* CATEGORY*            START*  \\\n",
      "0       1/1/2016 21:11    1/1/2016 21:17  Business       Fort Pierce   \n",
      "1        1/2/2016 1:25     1/2/2016 1:37  Business       Fort Pierce   \n",
      "2       1/2/2016 20:25    1/2/2016 20:38  Business       Fort Pierce   \n",
      "3       1/5/2016 17:31    1/5/2016 17:45  Business       Fort Pierce   \n",
      "4       1/6/2016 14:42    1/6/2016 15:49  Business       Fort Pierce   \n",
      "...                ...               ...       ...               ...   \n",
      "1151  12/31/2016 13:24  12/31/2016 13:42  Business           Kar?chi   \n",
      "1152  12/31/2016 15:03  12/31/2016 15:38  Business  Unknown Location   \n",
      "1153  12/31/2016 21:32  12/31/2016 21:50  Business        Katunayake   \n",
      "1154  12/31/2016 22:08  12/31/2016 23:51  Business           Gampaha   \n",
      "1155            Totals               NaN       NaN               NaN   \n",
      "\n",
      "                 STOP*   MILES*         PURPOSE*  \n",
      "0          Fort Pierce      5.1   Meal/Entertain  \n",
      "1          Fort Pierce      5.0              NaN  \n",
      "2          Fort Pierce      4.8  Errand/Supplies  \n",
      "3          Fort Pierce      4.7          Meeting  \n",
      "4      West Palm Beach     63.7   Customer Visit  \n",
      "...                ...      ...              ...  \n",
      "1151  Unknown Location      3.9   Temporary Site  \n",
      "1152  Unknown Location     16.2          Meeting  \n",
      "1153           Gampaha      6.4   Temporary Site  \n",
      "1154         Ilukwatta     48.2   Temporary Site  \n",
      "1155               NaN  12204.7              NaN  \n",
      "\n",
      "[1156 rows x 7 columns]>\n"
     ]
    }
   ],
   "source": [
    "print(df.info)"
   ]
  },
  {
   "cell_type": "markdown",
   "id": "0dba6eff-7805-45fa-8272-76f9b11fbb0b",
   "metadata": {},
   "source": [
    "**Check for missing values**"
   ]
  },
  {
   "cell_type": "code",
   "execution_count": 49,
   "id": "d9565cc7-c276-422a-883f-cd731ceb163a",
   "metadata": {},
   "outputs": [
    {
     "name": "stdout",
     "output_type": "stream",
     "text": [
      "START_DATE*      0\n",
      "END_DATE*        1\n",
      "CATEGORY*        1\n",
      "START*           1\n",
      "STOP*            1\n",
      "MILES*           0\n",
      "PURPOSE*       503\n",
      "dtype: int64\n"
     ]
    }
   ],
   "source": [
    "print(df.isna().sum())"
   ]
  },
  {
   "cell_type": "markdown",
   "id": "a58c1ca3-cae2-412a-8bd3-65cac83dcdd2",
   "metadata": {},
   "source": [
    "**Drop rows with missing values**"
   ]
  },
  {
   "cell_type": "code",
   "execution_count": 50,
   "id": "7e610261-c70f-4297-b9be-370881444bc9",
   "metadata": {},
   "outputs": [],
   "source": [
    "# df= df.dropna()\n",
    "# print(df.isna().sum())"
   ]
  },
  {
   "cell_type": "markdown",
   "id": "553b0fa2-e237-4f3d-824f-812b15aa79f3",
   "metadata": {},
   "source": [
    "**fill missing values (propose column with unknown value)**"
   ]
  },
  {
   "cell_type": "code",
   "execution_count": 51,
   "id": "1f85afa3-ea43-4ccc-bd45-b7b8e1d7b0b9",
   "metadata": {},
   "outputs": [
    {
     "name": "stdout",
     "output_type": "stream",
     "text": [
      "START_DATE*      0\n",
      "END_DATE*        1\n",
      "CATEGORY*        1\n",
      "START*           1\n",
      "STOP*            1\n",
      "MILES*           0\n",
      "PURPOSE*       503\n",
      "dtype: int64\n",
      "START_DATE*    0\n",
      "END_DATE*      0\n",
      "CATEGORY*      0\n",
      "START*         0\n",
      "STOP*          0\n",
      "MILES*         0\n",
      "PURPOSE*       0\n",
      "dtype: int64\n"
     ]
    }
   ],
   "source": [
    "print(df.isna().sum())\n",
    "df['START_DATE*'].fillna(df['START_DATE*'].mode()[0],inplace=True)\n",
    "df['END_DATE*'].fillna(df['START_DATE*'].mode()[0],inplace=True)\n",
    "df['CATEGORY*'].fillna(df['CATEGORY*'].mode()[0],inplace=True)\n",
    "df['START*'].fillna(df['START*'].mode()[0],inplace=True)\n",
    "df['STOP*'].fillna(df['STOP*'].mode()[0],inplace=True)\n",
    "df['MILES*'].fillna(df['MILES*'].mode()[0],inplace=True)\n",
    "df['PURPOSE*'].fillna(df['PURPOSE*'].mode()[0],inplace=True)\n",
    "print(df.isna().sum())"
   ]
  },
  {
   "cell_type": "markdown",
   "id": "2c3f9b9f-8cc4-46d0-bc19-d0986d7895c4",
   "metadata": {},
   "source": [
    "**Check and remove duplicates**"
   ]
  },
  {
   "cell_type": "code",
   "execution_count": 52,
   "id": "94e58632-b9ce-4be0-8f71-5a81b4dd88cd",
   "metadata": {},
   "outputs": [
    {
     "name": "stdout",
     "output_type": "stream",
     "text": [
      "         START_DATE*        END_DATE* CATEGORY*  START* STOP*  MILES* PURPOSE*\n",
      "492  6/28/2016 23:34  6/28/2016 23:59  Business  Durham  Cary     9.9  Meeting\n"
     ]
    }
   ],
   "source": [
    "duplicates=df[df.duplicated()]\n",
    "print(duplicates)\n",
    "\n"
   ]
  },
  {
   "cell_type": "code",
   "execution_count": 53,
   "id": "76215668-c702-461b-872e-83ab303880cb",
   "metadata": {},
   "outputs": [
    {
     "name": "stdout",
     "output_type": "stream",
     "text": [
      "Empty DataFrame\n",
      "Columns: [START_DATE*, END_DATE*, CATEGORY*, START*, STOP*, MILES*, PURPOSE*]\n",
      "Index: []\n"
     ]
    }
   ],
   "source": [
    "df.drop_duplicates(keep=\"first\",inplace=True)\n",
    "\n",
    "duplicates1=df[df.duplicated()]\n",
    "print(duplicates1)"
   ]
  },
  {
   "cell_type": "markdown",
   "id": "0a27bdb3-ade2-40b0-b06f-8a02ede5980a",
   "metadata": {},
   "source": [
    "**Convert START_DATE and END_DATE to datetime**"
   ]
  },
  {
   "cell_type": "code",
   "execution_count": 68,
   "id": "effc5d74-284f-470d-9784-8ae321a4a774",
   "metadata": {},
   "outputs": [
    {
     "name": "stdout",
     "output_type": "stream",
     "text": [
      "datetime64[ns]\n",
      "             START_DATE*         END_DATE* CATEGORY*            START*  \\\n",
      "0    2016-01-01 21:11:00    1/1/2016 21:17  Business       Fort Pierce   \n",
      "1    2016-01-02 01:25:00     1/2/2016 1:37  Business       Fort Pierce   \n",
      "2    2016-01-02 20:25:00    1/2/2016 20:38  Business       Fort Pierce   \n",
      "3    2016-01-05 17:31:00    1/5/2016 17:45  Business       Fort Pierce   \n",
      "4    2016-01-06 14:42:00    1/6/2016 15:49  Business       Fort Pierce   \n",
      "...                  ...               ...       ...               ...   \n",
      "1151 2016-12-31 13:24:00  12/31/2016 13:42  Business           Kar?chi   \n",
      "1152 2016-12-31 15:03:00  12/31/2016 15:38  Business  Unknown Location   \n",
      "1153 2016-12-31 21:32:00  12/31/2016 21:50  Business        Katunayake   \n",
      "1154 2016-12-31 22:08:00  12/31/2016 23:51  Business           Gampaha   \n",
      "1155                 NaT               NaN       NaN               NaN   \n",
      "\n",
      "                 STOP*   MILES*         PURPOSE*  \n",
      "0          Fort Pierce      5.1   Meal/Entertain  \n",
      "1          Fort Pierce      5.0              NaN  \n",
      "2          Fort Pierce      4.8  Errand/Supplies  \n",
      "3          Fort Pierce      4.7          Meeting  \n",
      "4      West Palm Beach     63.7   Customer Visit  \n",
      "...                ...      ...              ...  \n",
      "1151  Unknown Location      3.9   Temporary Site  \n",
      "1152  Unknown Location     16.2          Meeting  \n",
      "1153           Gampaha      6.4   Temporary Site  \n",
      "1154         Ilukwatta     48.2   Temporary Site  \n",
      "1155               NaN  12204.7              NaN  \n",
      "\n",
      "[1156 rows x 7 columns]\n"
     ]
    }
   ],
   "source": [
    "df['START_DATE*'] = pd.to_datetime(df['START_DATE*'], format='%m/%d/%Y %H:%M',errors='coerce')\n",
    "print(df['START_DATE*'].dtype)\n",
    "print(df)"
   ]
  },
  {
   "cell_type": "code",
   "execution_count": 57,
   "id": "59c684a6-d034-4ac8-b4cf-b86eeef5fc9c",
   "metadata": {},
   "outputs": [
    {
     "name": "stdout",
     "output_type": "stream",
     "text": [
      "datetime64[ns]\n"
     ]
    }
   ],
   "source": [
    "df['END_DATE*'] = pd.to_datetime(df['END_DATE*'], format=\"%d/%m/%y %H:%M\",errors='coerce')\n",
    "print(df['END_DATE*'].dtype)"
   ]
  },
  {
   "cell_type": "markdown",
   "id": "95dfc783-1db4-4010-a085-23a653ea83d0",
   "metadata": {},
   "source": [
    "**Total number of rides per category:**"
   ]
  },
  {
   "cell_type": "code",
   "execution_count": 70,
   "id": "e5cba9c3-7988-4d66-9306-5b95131dd111",
   "metadata": {},
   "outputs": [
    {
     "name": "stdout",
     "output_type": "stream",
     "text": [
      "CATEGORY*\n",
      "Business    1078\n",
      "Personal      77\n",
      "Name: count, dtype: int64\n",
      "             START_DATE*         END_DATE* CATEGORY*            START*  \\\n",
      "0    2016-01-01 21:11:00    1/1/2016 21:17  Business       Fort Pierce   \n",
      "1    2016-01-02 01:25:00     1/2/2016 1:37  Business       Fort Pierce   \n",
      "2    2016-01-02 20:25:00    1/2/2016 20:38  Business       Fort Pierce   \n",
      "3    2016-01-05 17:31:00    1/5/2016 17:45  Business       Fort Pierce   \n",
      "4    2016-01-06 14:42:00    1/6/2016 15:49  Business       Fort Pierce   \n",
      "...                  ...               ...       ...               ...   \n",
      "1151 2016-12-31 13:24:00  12/31/2016 13:42  Business           Kar?chi   \n",
      "1152 2016-12-31 15:03:00  12/31/2016 15:38  Business  Unknown Location   \n",
      "1153 2016-12-31 21:32:00  12/31/2016 21:50  Business        Katunayake   \n",
      "1154 2016-12-31 22:08:00  12/31/2016 23:51  Business           Gampaha   \n",
      "1155                 NaT               NaN       NaN               NaN   \n",
      "\n",
      "                 STOP*   MILES*         PURPOSE*  \n",
      "0          Fort Pierce      5.1   Meal/Entertain  \n",
      "1          Fort Pierce      5.0              NaN  \n",
      "2          Fort Pierce      4.8  Errand/Supplies  \n",
      "3          Fort Pierce      4.7          Meeting  \n",
      "4      West Palm Beach     63.7   Customer Visit  \n",
      "...                ...      ...              ...  \n",
      "1151  Unknown Location      3.9   Temporary Site  \n",
      "1152  Unknown Location     16.2          Meeting  \n",
      "1153           Gampaha      6.4   Temporary Site  \n",
      "1154         Ilukwatta     48.2   Temporary Site  \n",
      "1155               NaN  12204.7              NaN  \n",
      "\n",
      "[1156 rows x 7 columns]\n"
     ]
    }
   ],
   "source": [
    "print(df['CATEGORY*'].value_counts())\n",
    "print(df)"
   ]
  },
  {
   "cell_type": "markdown",
   "id": "df33aac2-ffb5-4ec5-9498-652a0eb957d9",
   "metadata": {},
   "source": [
    "**Total miles traveled for each purpose:**"
   ]
  },
  {
   "cell_type": "code",
   "execution_count": 71,
   "id": "6cea5c61-d84e-4eaf-8fde-23ec8b1f2a2c",
   "metadata": {},
   "outputs": [
    {
     "name": "stdout",
     "output_type": "stream",
     "text": [
      "START*\n",
      "Agnew               11.1\n",
      "Almond              15.2\n",
      "Apex                90.8\n",
      "Arabi               17.0\n",
      "Arlington            4.9\n",
      "                   ...  \n",
      "West University      4.4\n",
      "Weston               8.0\n",
      "Westpark Place      37.1\n",
      "Whitebridge        273.4\n",
      "Winston Salem      133.6\n",
      "Name: MILES*, Length: 177, dtype: float64\n"
     ]
    }
   ],
   "source": [
    "print(df.groupby('START*')['MILES*'].agg('sum'))"
   ]
  },
  {
   "cell_type": "markdown",
   "id": "0038c354-db08-44a6-90b4-3c307431960d",
   "metadata": {},
   "source": [
    "**Average distance for business vs. personal rides:**"
   ]
  },
  {
   "cell_type": "code",
   "execution_count": 74,
   "id": "81c4d609-c7fa-44a7-b7f1-29a996a068c8",
   "metadata": {},
   "outputs": [
    {
     "name": "stdout",
     "output_type": "stream",
     "text": [
      "CATEGORY*\n",
      "Business    10.655844\n",
      "Personal     9.320779\n",
      "Name: MILES*, dtype: float64\n"
     ]
    }
   ],
   "source": [
    "print(df.groupby('CATEGORY*')[\"MILES*\"].agg('mean'))"
   ]
  },
  {
   "cell_type": "markdown",
   "id": "b5ce5c6c-b9ba-4c8f-a371-d3d8ff76ce06",
   "metadata": {},
   "source": [
    "**Add a column for cost estimation (assuming $2 per mile):**"
   ]
  },
  {
   "cell_type": "code",
   "execution_count": 75,
   "id": "d727f17e-f0a9-4168-9a4d-bd0c5b118e11",
   "metadata": {},
   "outputs": [
    {
     "name": "stdout",
     "output_type": "stream",
     "text": [
      "             START_DATE*         END_DATE* CATEGORY*            START*  \\\n",
      "0    2016-01-01 21:11:00    1/1/2016 21:17  Business       Fort Pierce   \n",
      "1    2016-01-02 01:25:00     1/2/2016 1:37  Business       Fort Pierce   \n",
      "2    2016-01-02 20:25:00    1/2/2016 20:38  Business       Fort Pierce   \n",
      "3    2016-01-05 17:31:00    1/5/2016 17:45  Business       Fort Pierce   \n",
      "4    2016-01-06 14:42:00    1/6/2016 15:49  Business       Fort Pierce   \n",
      "...                  ...               ...       ...               ...   \n",
      "1151 2016-12-31 13:24:00  12/31/2016 13:42  Business           Kar?chi   \n",
      "1152 2016-12-31 15:03:00  12/31/2016 15:38  Business  Unknown Location   \n",
      "1153 2016-12-31 21:32:00  12/31/2016 21:50  Business        Katunayake   \n",
      "1154 2016-12-31 22:08:00  12/31/2016 23:51  Business           Gampaha   \n",
      "1155                 NaT               NaN       NaN               NaN   \n",
      "\n",
      "                 STOP*   MILES*         PURPOSE*  cost_estimation  \n",
      "0          Fort Pierce      5.1   Meal/Entertain             10.2  \n",
      "1          Fort Pierce      5.0              NaN             10.0  \n",
      "2          Fort Pierce      4.8  Errand/Supplies              9.6  \n",
      "3          Fort Pierce      4.7          Meeting              9.4  \n",
      "4      West Palm Beach     63.7   Customer Visit            127.4  \n",
      "...                ...      ...              ...              ...  \n",
      "1151  Unknown Location      3.9   Temporary Site              7.8  \n",
      "1152  Unknown Location     16.2          Meeting             32.4  \n",
      "1153           Gampaha      6.4   Temporary Site             12.8  \n",
      "1154         Ilukwatta     48.2   Temporary Site             96.4  \n",
      "1155               NaN  12204.7              NaN          24409.4  \n",
      "\n",
      "[1156 rows x 8 columns]\n"
     ]
    }
   ],
   "source": [
    "df['cost_estimation']=df['MILES*']*2\n",
    "print(df)"
   ]
  },
  {
   "cell_type": "markdown",
   "id": "8e7c7766-dc43-43bf-bf95-bd52e37b1657",
   "metadata": {},
   "source": [
    "**Filter rides longer than 50 miles:**"
   ]
  },
  {
   "cell_type": "code",
   "execution_count": 76,
   "id": "f1452c30-ba23-4153-b83c-efefa820123d",
   "metadata": {},
   "outputs": [
    {
     "name": "stdout",
     "output_type": "stream",
     "text": [
      "             START_DATE*         END_DATE* CATEGORY*            START*  \\\n",
      "4    2016-01-06 14:42:00    1/6/2016 15:49  Business       Fort Pierce   \n",
      "232  2016-03-17 12:52:00   3/17/2016 15:11  Business            Austin   \n",
      "251  2016-03-19 19:33:00   3/19/2016 20:39  Business         Galveston   \n",
      "268  2016-03-25 13:24:00   3/25/2016 16:22  Business              Cary   \n",
      "269  2016-03-25 16:52:00   3/25/2016 22:22  Business             Latta   \n",
      "270  2016-03-25 22:54:00    3/26/2016 1:39  Business      Jacksonville   \n",
      "295  2016-04-02 12:21:00    4/2/2016 14:47  Business         Kissimmee   \n",
      "296  2016-04-02 16:57:00    4/2/2016 18:09  Business     Daytona Beach   \n",
      "297  2016-04-02 19:38:00    4/2/2016 22:36  Business      Jacksonville   \n",
      "298  2016-04-02 23:11:00     4/3/2016 1:34  Business         Ridgeland   \n",
      "299  2016-04-03 02:00:00     4/3/2016 4:16  Business          Florence   \n",
      "546  2016-07-14 16:39:00   7/14/2016 20:05  Business       Morrisville   \n",
      "559  2016-07-17 12:20:00   7/17/2016 15:25  Personal             Boone   \n",
      "707  2016-08-24 13:01:00   8/24/2016 15:25  Business  Unknown Location   \n",
      "710  2016-08-25 17:19:00   8/25/2016 19:20  Business  Unknown Location   \n",
      "726  2016-08-27 14:01:00   8/27/2016 15:44  Business            Lahore   \n",
      "727  2016-08-27 16:15:00   8/27/2016 19:13  Business  Unknown Location   \n",
      "751  2016-09-06 17:49:00    9/6/2016 17:49  Business  Unknown Location   \n",
      "776  2016-09-27 21:01:00    9/28/2016 2:37  Business  Unknown Location   \n",
      "788  2016-10-06 17:23:00   10/6/2016 17:40  Business        R?walpindi   \n",
      "869  2016-10-28 15:53:00  10/28/2016 17:59  Business              Cary   \n",
      "870  2016-10-28 18:13:00  10/28/2016 20:07  Business     Winston Salem   \n",
      "871  2016-10-28 20:13:00  10/28/2016 22:00  Business         Asheville   \n",
      "873  2016-10-29 17:13:00  10/29/2016 19:19  Business        Hayesville   \n",
      "880  2016-10-30 13:24:00  10/30/2016 14:37  Business       Bryson City   \n",
      "881  2016-10-30 15:22:00  10/30/2016 18:23  Business         Asheville   \n",
      "1088 2016-12-21 20:56:00  12/21/2016 23:42  Business        Rawalpindi   \n",
      "1155                 NaT               NaN       NaN               NaN   \n",
      "\n",
      "                 STOP*   MILES*        PURPOSE*  cost_estimation  \n",
      "4      West Palm Beach     63.7  Customer Visit            127.4  \n",
      "232               Katy    136.0  Customer Visit            272.0  \n",
      "251            Houston     57.0  Customer Visit            114.0  \n",
      "268              Latta    144.0  Customer Visit            288.0  \n",
      "269       Jacksonville    310.3  Customer Visit            620.6  \n",
      "270          Kissimmee    201.0         Meeting            402.0  \n",
      "295      Daytona Beach     77.3  Customer Visit            154.6  \n",
      "296       Jacksonville     80.5  Customer Visit            161.0  \n",
      "297          Ridgeland    174.2  Customer Visit            348.4  \n",
      "298           Florence    144.0         Meeting            288.0  \n",
      "299               Cary    159.3         Meeting            318.6  \n",
      "546         Banner Elk    195.3             NaN            390.6  \n",
      "559               Cary    180.2         Commute            360.4  \n",
      "707   Unknown Location     96.2             NaN            192.4  \n",
      "710   Unknown Location     50.4             NaN            100.8  \n",
      "726   Unknown Location     86.6             NaN            173.2  \n",
      "727   Unknown Location    156.9             NaN            313.8  \n",
      "751   Unknown Location     69.1             NaN            138.2  \n",
      "776   Unknown Location    195.6             NaN            391.2  \n",
      "788   Unknown Location    112.6             NaN            225.2  \n",
      "869      Winston Salem    107.0         Meeting            214.0  \n",
      "870          Asheville    133.6         Meeting            267.2  \n",
      "871             Topton     91.8         Meeting            183.6  \n",
      "873             Topton     75.7             NaN            151.4  \n",
      "880          Asheville     68.4             NaN            136.8  \n",
      "881             Mebane    195.9             NaN            391.8  \n",
      "1088  Unknown Location    103.0         Meeting            206.0  \n",
      "1155               NaN  12204.7             NaN          24409.4  \n"
     ]
    }
   ],
   "source": [
    "df_rides_50=df[df[\"MILES*\"]>50]\n",
    "print(df_rides_50)"
   ]
  },
  {
   "cell_type": "markdown",
   "id": "3fdffe93-a65e-4407-bd5b-daa9d20c6708",
   "metadata": {},
   "source": [
    "**Filter by specific purpose (e.g., meetings):**"
   ]
  },
  {
   "cell_type": "code",
   "execution_count": 78,
   "id": "f9f9ee23-b44d-4a9e-bcf9-f5c34c8a990e",
   "metadata": {},
   "outputs": [
    {
     "name": "stdout",
     "output_type": "stream",
     "text": [
      "             START_DATE*         END_DATE* CATEGORY*            START*  \\\n",
      "3    2016-01-05 17:31:00    1/5/2016 17:45  Business       Fort Pierce   \n",
      "4    2016-01-06 14:42:00    1/6/2016 15:49  Business       Fort Pierce   \n",
      "6    2016-01-06 17:30:00    1/6/2016 17:35  Business   West Palm Beach   \n",
      "7    2016-01-07 13:27:00    1/7/2016 13:33  Business              Cary   \n",
      "8    2016-01-10 08:05:00    1/10/2016 8:25  Business              Cary   \n",
      "...                  ...               ...       ...               ...   \n",
      "1144 2016-12-29 23:14:00  12/29/2016 23:47  Business  Unknown Location   \n",
      "1148 2016-12-30 16:45:00  12/30/2016 17:08  Business           Kar?chi   \n",
      "1149 2016-12-30 23:06:00  12/30/2016 23:10  Business           Kar?chi   \n",
      "1150 2016-12-31 01:07:00   12/31/2016 1:14  Business           Kar?chi   \n",
      "1152 2016-12-31 15:03:00  12/31/2016 15:38  Business  Unknown Location   \n",
      "\n",
      "                 STOP*  MILES*        PURPOSE*  cost_estimation  \n",
      "3          Fort Pierce     4.7         Meeting              9.4  \n",
      "4      West Palm Beach    63.7  Customer Visit            127.4  \n",
      "6           Palm Beach     7.1         Meeting             14.2  \n",
      "7                 Cary     0.8         Meeting              1.6  \n",
      "8          Morrisville     8.3         Meeting             16.6  \n",
      "...                ...     ...             ...              ...  \n",
      "1144           Kar?chi    12.9         Meeting             25.8  \n",
      "1148           Kar?chi     4.6         Meeting              9.2  \n",
      "1149           Kar?chi     0.8  Customer Visit              1.6  \n",
      "1150           Kar?chi     0.7         Meeting              1.4  \n",
      "1152  Unknown Location    16.2         Meeting             32.4  \n",
      "\n",
      "[288 rows x 8 columns]\n"
     ]
    }
   ],
   "source": [
    "df_purpose = df[df['PURPOSE*'].isin(['Customer Visit', 'Meeting'])]\n",
    "print(df_purpose)"
   ]
  },
  {
   "cell_type": "markdown",
   "id": "82ee3d4d-523b-4a28-a9c1-28149eb65a29",
   "metadata": {},
   "source": [
    "**What is the total number of business trips versus personal trips?**"
   ]
  },
  {
   "cell_type": "code",
   "execution_count": 79,
   "id": "9cb8d272-ecb0-4b42-84b8-32577bbf635c",
   "metadata": {},
   "outputs": [
    {
     "name": "stdout",
     "output_type": "stream",
     "text": [
      "CATEGORY*\n",
      "Business    1078\n",
      "Personal      77\n",
      "Name: count, dtype: int64\n"
     ]
    }
   ],
   "source": [
    "print(df['CATEGORY*'].value_counts())"
   ]
  },
  {
   "cell_type": "markdown",
   "id": "4b246fa1-cd11-46f7-bf7d-bd287536cf7c",
   "metadata": {},
   "source": [
    "**What percentage of trips are business versus personal?**"
   ]
  },
  {
   "cell_type": "code",
   "execution_count": 82,
   "id": "4a2e19b9-5584-4c45-9d9e-642cf1aefabb",
   "metadata": {},
   "outputs": [],
   "source": [
    "num_business_trips = df[df['CATEGORY*'] == 'Business'].shape[0] \n",
    "\n",
    "num_personal_trips = df[df['CATEGORY*'] == 'Personal'].shape[0]"
   ]
  },
  {
   "cell_type": "code",
   "execution_count": 83,
   "id": "3ba9ff0a-473c-4b84-ae42-fb74b3363d93",
   "metadata": {},
   "outputs": [
    {
     "name": "stdout",
     "output_type": "stream",
     "text": [
      "the percenatge fo businees vs personal trips is: 14.0\n"
     ]
    },
    {
     "data": {
      "text/plain": [
       "[None]"
      ]
     },
     "execution_count": 83,
     "metadata": {},
     "output_type": "execute_result"
    }
   ],
   "source": [
    "[print(\"the percenatge fo businees vs personal trips is:\",(num_business_trips/num_personal_trips))]"
   ]
  },
  {
   "cell_type": "code",
   "execution_count": null,
   "id": "0a613fc2",
   "metadata": {},
   "outputs": [],
   "source": []
  }
 ],
 "metadata": {
  "kernelspec": {
   "display_name": "Python 3 (ipykernel)",
   "language": "python",
   "name": "python3"
  },
  "language_info": {
   "codemirror_mode": {
    "name": "ipython",
    "version": 3
   },
   "file_extension": ".py",
   "mimetype": "text/x-python",
   "name": "python",
   "nbconvert_exporter": "python",
   "pygments_lexer": "ipython3",
   "version": "3.11.5"
  }
 },
 "nbformat": 4,
 "nbformat_minor": 5
}
