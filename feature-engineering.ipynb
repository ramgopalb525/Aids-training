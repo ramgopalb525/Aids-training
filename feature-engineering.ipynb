{
 "cells": [
  {
   "cell_type": "markdown",
   "id": "187c44a4",
   "metadata": {},
   "source": [
    "# **What is Feature Engineering?**\n",
    " \n",
    "            Feature engineering is the process of creating new features or modifying existing ones to improve the performance of machine learning models. It involves techniques like feature extraction, transformation, encoding, and scaling to make data more useful for predictions.\n",
    "            \n",
    "            \n",
    "# **Why Do We Need Feature Engineering?**\n",
    "\n",
    "1.**Improves Model Performance** – Good fea... by Shaik Suhel (Unverified)\n",
    "Shaik Suhel (Unverified)\n",
    "2:29 PM\n",
    "1.**Improves Model Performance** – Good features help models make better predictions.\n",
    " \n",
    "2.**Reduces Overfitting** – Helps eliminate noise and irrelevant data.\n",
    " \n",
    "3.**Handles Missing Data** – Creates meaningful replacements for missing values.\n",
    " \n",
    "4.**Enables Better Interpretability** – Makes features more understandable and useful.\n",
    "5.**Reduces Dimensionality** – Helps remove unnecessary data points, making the model efficient.\n",
    "has context menu         \n",
    "            \n",
    "            \n",
    "            "
   ]
  },
  {
   "cell_type": "code",
   "execution_count": 3,
   "id": "28982367",
   "metadata": {},
   "outputs": [
    {
     "name": "stdout",
     "output_type": "stream",
     "text": [
      "      TransactionDate  DayOfWeek  Hour  IsWeekend\n",
      "0 2025-02-01 14:30:00          5    14          1\n",
      "1 2025-02-02 18:45:00          6    18          1\n",
      "2 2025-02-03 08:15:00          0     8          0\n"
     ]
    }
   ],
   "source": [
    "import pandas as pd\n",
    "\n",
    "# Sample dataset with 'TransactionDate'\n",
    "data = {'TransactionDate': ['2025-02-01 14:30:00', '2025-02-02 18:45:00', '2025-02-03 08:15:00']}\n",
    "df = pd.DataFrame(data)\n",
    "\n",
    "# Convert 'TransactionDate' to datetime\n",
    "df['TransactionDate'] = pd.to_datetime(df['TransactionDate'])\n",
    "\n",
    "# Extract day of the week (Monday=0, Sunday=6)\n",
    "df['DayOfWeek'] = df['TransactionDate'].dt.dayofweek\n",
    "\n",
    "# Extract the hour of the day\n",
    "df['Hour'] = df['TransactionDate'].dt.hour\n",
    "\n",
    "# Create a Weekend flag (1 for weekend, 0 for weekdays)\n",
    "df['IsWeekend'] = df['DayOfWeek'].apply(lambda x: 1 if x >= 5 else 0)  # 5 and 6 represent Saturday and Sunday\n",
    "\n",
    "print(df)\n"
   ]
  },
  {
   "cell_type": "code",
   "execution_count": 4,
   "id": "44fa3a82",
   "metadata": {},
   "outputs": [
    {
     "name": "stdout",
     "output_type": "stream",
     "text": [
      "   UserID  AvgTransactionAmount\n",
      "0     101                 500.0\n",
      "1     102                 300.0\n",
      "2     103                 700.0\n",
      "3     104                1000.0\n",
      "4     105                 400.0\n"
     ]
    }
   ],
   "source": [
    "df_transactions = pd.DataFrame({\n",
    "    'UserID': [101, 102, 103, 104, 105],\n",
    "    'TransactionAmount': [500, 300, 700, 1000, 400]\n",
    "})\n",
    "\n",
    "df_user_avg = df_transactions.groupby('UserID')['TransactionAmount'].mean().reset_index()\n",
    "df_user_avg.rename(columns={'TransactionAmount': 'AvgTransactionAmount'}, inplace=True)\n",
    "\n",
    "# Print the result\n",
    "print(df_user_avg)"
   ]
  },
  {
   "cell_type": "code",
   "execution_count": 8,
   "id": "39e10b3c",
   "metadata": {},
   "outputs": [
    {
     "name": "stdout",
     "output_type": "stream",
     "text": [
      "   Product_list_clothing  Product_list_electronics  Product_list_grocery\n",
      "0                    0.0                       1.0                   0.0\n",
      "1                    1.0                       0.0                   0.0\n",
      "2                    1.0                       0.0                   0.0\n",
      "3                    0.0                       0.0                   1.0\n"
     ]
    }
   ],
   "source": [
    "import pandas as pd\n",
    "from sklearn.preprocessing import OneHotEncoder\n",
    "\n",
    "df = pd.DataFrame({'Product_list': ['electronics', 'clothing', 'clothing', 'grocery']})\n",
    "encoder = OneHotEncoder(sparse_output=False)\n",
    "encoded_features = encoder.fit_transform(df[['Product_list']])\n",
    "df_encoded = pd.DataFrame(encoded_features, columns=encoder.get_feature_names_out(['Product_list']))\n",
    "print(df_encoded)\n"
   ]
  },
  {
   "cell_type": "code",
   "execution_count": 10,
   "id": "ff8e463c",
   "metadata": {},
   "outputs": [
    {
     "name": "stdout",
     "output_type": "stream",
     "text": [
      "   TransactionAmount  LogTransactionAmount\n",
      "0                100              4.615121\n",
      "1               2000              7.601402\n",
      "2               5000              8.517393\n",
      "3             100000             11.512935\n",
      "4               2500              7.824446\n"
     ]
    }
   ],
   "source": [
    "df = pd.DataFrame({\n",
    "    'TransactionAmount': [100, 2000, 5000, 100000, 2500]\n",
    "})\n",
    "\n",
    "# Apply log transformation, adding a small constant (1) to avoid log(0) issues\n",
    "df['LogTransactionAmount'] = np.log(df['TransactionAmount'] + 1)\n",
    "\n",
    "# Print the transformed DataFrame\n",
    "print(df)\n"
   ]
  },
  {
   "cell_type": "code",
   "execution_count": 12,
   "id": "78e15e0f",
   "metadata": {},
   "outputs": [
    {
     "name": "stdout",
     "output_type": "stream",
     "text": [
      "   TransactionAmount  NormalizedTransactionAmount  \\\n",
      "0                100                     0.000000   \n",
      "1               2000                     0.019019   \n",
      "2               5000                     0.049049   \n",
      "3             100000                     1.000000   \n",
      "4               2500                     0.024024   \n",
      "\n",
      "   StandardizedTransactionAmount  \n",
      "0                      -0.558466  \n",
      "1                      -0.509837  \n",
      "2                      -0.433055  \n",
      "3                       1.998398  \n",
      "4                      -0.497040  \n"
     ]
    }
   ],
   "source": [
    "from sklearn.preprocessing import MinMaxScaler, StandardScaler\n",
    "df = pd.DataFrame({\n",
    "    'TransactionAmount': [100, 2000, 5000, 100000, 2500]\n",
    "})\n",
    "\n",
    "# Min-Max Scaling (Normalization)\n",
    "min_max_scaler = MinMaxScaler()\n",
    "df['NormalizedTransactionAmount'] = min_max_scaler.fit_transform(df[['TransactionAmount']])\n",
    "\n",
    "# Standard Scaling (Z-score normalization)\n",
    "standard_scaler = StandardScaler()\n",
    "df['StandardizedTransactionAmount'] = standard_scaler.fit_transform(df[['TransactionAmount']])\n",
    "\n",
    "print(df)"
   ]
  },
  {
   "cell_type": "markdown",
   "id": "460b05bc",
   "metadata": {},
   "source": []
  },
  {
   "cell_type": "code",
   "execution_count": null,
   "id": "93299521",
   "metadata": {
    "scrolled": true
   },
   "outputs": [],
   "source": []
  },
  {
   "cell_type": "code",
   "execution_count": null,
   "id": "92418029",
   "metadata": {},
   "outputs": [],
   "source": []
  }
 ],
 "metadata": {
  "kernelspec": {
   "display_name": "Python 3 (ipykernel)",
   "language": "python",
   "name": "python3"
  },
  "language_info": {
   "codemirror_mode": {
    "name": "ipython",
    "version": 3
   },
   "file_extension": ".py",
   "mimetype": "text/x-python",
   "name": "python",
   "nbconvert_exporter": "python",
   "pygments_lexer": "ipython3",
   "version": "3.11.5"
  }
 },
 "nbformat": 4,
 "nbformat_minor": 5
}
